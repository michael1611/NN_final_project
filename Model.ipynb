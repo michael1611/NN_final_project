{
 "cells": [
  {
   "cell_type": "code",
   "execution_count": 1,
   "metadata": {
    "collapsed": false
   },
   "outputs": [
    {
     "name": "stderr",
     "output_type": "stream",
     "text": [
      "Using TensorFlow backend.\n"
     ]
    }
   ],
   "source": [
    "import numpy as np\n",
    "from keras.models import Sequential\n",
    "from keras.utils import np_utils\n",
    "from keras.constraints import maxnorm\n",
    "from keras.models import Model\n",
    "from keras.layers import Dense, Dropout, Activation, Flatten, Input\n",
    "from keras.layers.convolutional import Convolution2D\n",
    "from keras.layers.convolutional import MaxPooling2D\n",
    "from keras.optimizers import SGD,Adam,RMSprop\n",
    "from keras.layers.core import Dropout"
   ]
  },
  {
   "cell_type": "code",
   "execution_count": 2,
   "metadata": {
    "collapsed": true
   },
   "outputs": [],
   "source": [
    "#input\n",
    "\n",
    "data = np.zeros((3,32,32))"
   ]
  },
  {
   "cell_type": "code",
   "execution_count": 3,
   "metadata": {
    "collapsed": false
   },
   "outputs": [
    {
     "name": "stdout",
     "output_type": "stream",
     "text": [
      "____________________________________________________________________________________________________\n",
      "Layer (type)                     Output Shape          Param #     Connected to                     \n",
      "====================================================================================================\n",
      "convolution2d_1 (Convolution2D)  (None, 28, 28, 16)    1216        convolution2d_input_1[0][0]      \n",
      "____________________________________________________________________________________________________\n",
      "maxpooling2d_1 (MaxPooling2D)    (None, 14, 14, 16)    0           convolution2d_1[0][0]            \n",
      "____________________________________________________________________________________________________\n",
      "convolution2d_2 (Convolution2D)  (None, 10, 10, 32)    12832       maxpooling2d_1[0][0]             \n",
      "____________________________________________________________________________________________________\n",
      "maxpooling2d_2 (MaxPooling2D)    (None, 5, 5, 32)      0           convolution2d_2[0][0]            \n",
      "____________________________________________________________________________________________________\n",
      "convolution2d_3 (Convolution2D)  (None, 1, 1, 64)      51264       maxpooling2d_2[0][0]             \n",
      "____________________________________________________________________________________________________\n",
      "flatten_1 (Flatten)              (None, 64)            0           convolution2d_3[0][0]            \n",
      "____________________________________________________________________________________________________\n",
      "dense_1 (Dense)                  (None, 16)            1040        flatten_1[0][0]                  \n",
      "____________________________________________________________________________________________________\n",
      "dropout_1 (Dropout)              (None, 16)            0           dense_1[0][0]                    \n",
      "____________________________________________________________________________________________________\n",
      "dense_2 (Dense)                  (None, 10)            170         dropout_1[0][0]                  \n",
      "====================================================================================================\n",
      "Total params: 66,522\n",
      "Trainable params: 66,522\n",
      "Non-trainable params: 0\n",
      "____________________________________________________________________________________________________\n",
      "None\n"
     ]
    }
   ],
   "source": [
    "# model - single output softmax for cropped images\n",
    "# all activations are currently relu except for output layer which is softmax\n",
    "\n",
    "model = Sequential()\n",
    "# C1 layer - convolution size 5 x 5\n",
    "model.add(Convolution2D(16, 5, 5, input_shape = (32, 32, 3), border_mode = 'valid', activation = 'relu', W_constraint = maxnorm(3)))\n",
    "# S2 layer - halve dimensions\n",
    "model.add(MaxPooling2D(pool_size = (2,2)))\n",
    "# C3 layer - convolution size 5 x 5\n",
    "model.add(Convolution2D(32, 5, 5, activation = 'relu', border_mode = 'valid', W_constraint = maxnorm(3)))\n",
    "# S4 layer - halve dimensions\n",
    "model.add(MaxPooling2D(pool_size = (2,2)))\n",
    "# C5 layer - convolution size 5 x 5\n",
    "model.add(Convolution2D(64, 5, 5, activation = 'relu', border_mode = 'valid', W_constraint = maxnorm(3)))\n",
    "# flatten layer\n",
    "model.add(Flatten())\n",
    "# Dense layer\n",
    "model.add(Dense(16, activation = 'relu', W_constraint = maxnorm(3)))\n",
    "# Dropout\n",
    "model.add(Dropout(0.5))\n",
    "# Output layer\n",
    "model.add(Dense(10, activation = 'softmax'))\n",
    "\n",
    "# Compile model\n",
    "epochs = 25\n",
    "lrate = 0.01\n",
    "decay = lrate / epochs\n",
    "sgd = SGD(lr = lrate,momentum = 0.9,decay = decay,nesterov = False)\n",
    "model.compile(loss = 'categorical_crossentropy',optimizer = 'sgd',metrics=['accuracy'])\n",
    "print model.summary()"
   ]
  },
  {
   "cell_type": "code",
   "execution_count": 8,
   "metadata": {
    "collapsed": false
   },
   "outputs": [
    {
     "name": "stdout",
     "output_type": "stream",
     "text": [
      "____________________________________________________________________________________________________\n",
      "Layer (type)                     Output Shape          Param #     Connected to                     \n",
      "====================================================================================================\n",
      "input_5 (InputLayer)             (None, 128, 128, 3)   0                                            \n",
      "____________________________________________________________________________________________________\n",
      "convolution2d_12 (Convolution2D) (None, 126, 126, 32)  896         input_5[0][0]                    \n",
      "____________________________________________________________________________________________________\n",
      "activation_9 (Activation)        (None, 126, 126, 32)  0           convolution2d_12[0][0]           \n",
      "____________________________________________________________________________________________________\n",
      "maxpooling2d_11 (MaxPooling2D)   (None, 63, 63, 32)    0           activation_9[0][0]               \n",
      "____________________________________________________________________________________________________\n",
      "convolution2d_13 (Convolution2D) (None, 61, 61, 32)    9248        maxpooling2d_11[0][0]            \n",
      "____________________________________________________________________________________________________\n",
      "activation_10 (Activation)       (None, 61, 61, 32)    0           convolution2d_13[0][0]           \n",
      "____________________________________________________________________________________________________\n",
      "maxpooling2d_12 (MaxPooling2D)   (None, 30, 30, 32)    0           activation_10[0][0]              \n",
      "____________________________________________________________________________________________________\n",
      "dropout_6 (Dropout)              (None, 30, 30, 32)    0           maxpooling2d_12[0][0]            \n",
      "____________________________________________________________________________________________________\n",
      "flatten_6 (Flatten)              (None, 28800)         0           dropout_6[0][0]                  \n",
      "____________________________________________________________________________________________________\n",
      "dense_26 (Dense)                 (None, 5)             144005      flatten_6[0][0]                  \n",
      "____________________________________________________________________________________________________\n",
      "dense_27 (Dense)                 (None, 10)            288010      flatten_6[0][0]                  \n",
      "____________________________________________________________________________________________________\n",
      "dense_28 (Dense)                 (None, 10)            288010      flatten_6[0][0]                  \n",
      "____________________________________________________________________________________________________\n",
      "dense_29 (Dense)                 (None, 10)            288010      flatten_6[0][0]                  \n",
      "____________________________________________________________________________________________________\n",
      "dense_30 (Dense)                 (None, 10)            288010      flatten_6[0][0]                  \n",
      "____________________________________________________________________________________________________\n",
      "dense_31 (Dense)                 (None, 10)            288010      flatten_6[0][0]                  \n",
      "====================================================================================================\n",
      "Total params: 1,594,199\n",
      "Trainable params: 1,594,199\n",
      "Non-trainable params: 0\n",
      "____________________________________________________________________________________________________\n",
      "None\n"
     ]
    }
   ],
   "source": [
    "# model - Multiple softmax output\n",
    "\n",
    "batch_size = 128\n",
    "num_classes = 10\n",
    "num_epochs = 25\n",
    "max_length = 5\n",
    "\n",
    "model_input = Input(shape=(128,128,3))\n",
    "c1 = Convolution2D(32, 3, 3, border_mode = 'valid')(model_input)\n",
    "a1 = Activation('relu')(c1)\n",
    "s2 = MaxPooling2D(pool_size=(2,2))(a1)\n",
    "c3 = Convolution2D(32, 3, 3, border_mode = 'valid')(s2)\n",
    "a3 = Activation('relu')(c3)\n",
    "s4 = MaxPooling2D(pool_size=(2, 2))(a3)\n",
    "d = Dropout(0.25)(s4)\n",
    "conv_out = Flatten()(d)\n",
    "\n",
    "o0 = Dense(max_length, activation='softmax')(conv_out)\n",
    "o1 = Dense(num_classes, activation='softmax')(conv_out)\n",
    "o2 = Dense(num_classes, activation='softmax')(conv_out)\n",
    "o3 = Dense(num_classes, activation='softmax')(conv_out)\n",
    "o4 = Dense(num_classes, activation='softmax')(conv_out)\n",
    "o5 = Dense(num_classes, activation='softmax')(conv_out)\n",
    "\n",
    "lst = [o0, o1, o2, o3, o4, o5]\n",
    "\n",
    "modelalt = Model(input=model_input, output=lst)\n",
    "\n",
    "sgd = SGD(lr = lrate, decay = decay, momentum = 0.9, nesterov = True)\n",
    "modelalt.compile(loss = 'categorical_crossentropy', optimizer = sgd, metrics = [custom_metric])\n",
    "print modelalt.summary()"
   ]
  },
  {
   "cell_type": "code",
   "execution_count": 10,
   "metadata": {
    "collapsed": true
   },
   "outputs": [],
   "source": [
    "# custom metric\n",
    "import keras.backend as K\n",
    "from collections import defaultdict\n",
    "\n",
    "def get_from_one_hot(arr):\n",
    "    for i in range(10):\n",
    "        if arr[i] == 1:\n",
    "            return i\n",
    "\n",
    "# dimensions of y_true = 6 x num_samples\n",
    "def custom_metric(y_true, y_pred):\n",
    "    acc = defaultdict(int)\n",
    "    for i in range(6):\n",
    "        for j in range(len(y_true[i])):\n",
    "            if get_from_one_hot(y_true[i][j]) == get_from_one_hot(y_pred[i][j]):\n",
    "                acc[i] = acc[i] + 1\n",
    "        acc[i] = acc[i] / float(len(y_true[i]))\n",
    "    return {\n",
    "        'length_accuracy' : acc[0],\n",
    "        'digit1_accuracy' : acc[1],\n",
    "        'digit2_accuracy' : acc[2],\n",
    "        'digit3_accuracy' : acc[3],\n",
    "        'digit4_accuracy' : acc[4],\n",
    "        'digit5_accuracy' : acc[5]\n",
    "    }"
   ]
  }
 ],
 "metadata": {
  "kernelspec": {
   "display_name": "Python 2",
   "language": "python",
   "name": "python2"
  },
  "language_info": {
   "codemirror_mode": {
    "name": "ipython",
    "version": 2
   },
   "file_extension": ".py",
   "mimetype": "text/x-python",
   "name": "python",
   "nbconvert_exporter": "python",
   "pygments_lexer": "ipython2",
   "version": "2.7.5+"
  }
 },
 "nbformat": 4,
 "nbformat_minor": 2
}
